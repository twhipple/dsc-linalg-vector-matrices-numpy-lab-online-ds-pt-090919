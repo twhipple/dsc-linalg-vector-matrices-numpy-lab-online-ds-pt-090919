{
 "cells": [
  {
   "cell_type": "markdown",
   "metadata": {},
   "source": [
    "# Vectors and Matrices in Numpy - Lab\n",
    "\n",
    "## Introduction\n",
    "\n",
    "In this lab, you'll solve some simple matrix creation and manipulation exercises based on what you've learned so far in this section. The key takeaway here is to be able to understand how to use indexing with matrices and vectors while applying some basic operations.\n",
    "\n",
    "## Objectives\n",
    "\n",
    "In this lab you will: \n",
    "\n",
    "- Find the shape of vectors and matrices \n",
    "- Access and manipulate individual scalar components of a matrix \n",
    "- Create vectors and matrices using Numpy and Python\n",
    "\n",
    "## 1. Define two arrays $A$  with shape $ (4 \\times 2)$ and $B$ with shape $(2 \\times 3)$ \n",
    "So    $A =    \n",
    "  \\left[ {\\begin{array}{cc}\n",
    "   1402 & 191 \\\\\n",
    "   1371 &  821\\\\\n",
    "   949 &  1437 \\\\\n",
    "   147 & 1448 \\\\\n",
    "  \\end{array} }\\right]\n",
    "$\n",
    "and\n",
    "$\n",
    "B =    \n",
    "  \\left[ {\\begin{array}{ccc}\n",
    "   1 & 2 & 3 \\\\\n",
    "   4 & 5 & 6\\\\\n",
    "  \\end{array} }\\right]\n",
    "$"
   ]
  },
  {
   "cell_type": "code",
   "execution_count": 1,
   "metadata": {},
   "outputs": [],
   "source": [
    "import numpy as np"
   ]
  },
  {
   "cell_type": "code",
   "execution_count": 5,
   "metadata": {},
   "outputs": [
    {
     "name": "stdout",
     "output_type": "stream",
     "text": [
      "[[1402  191]\n",
      " [1371  821]\n",
      " [ 949 1437]\n",
      " [ 147 1448]]\n",
      "[[1 2 3]\n",
      " [4 5 6]]\n"
     ]
    }
   ],
   "source": [
    "# Code here\n",
    "A = np.array([[1402, 191],[1371, 821],[949, 1437],[147, 1448]])\n",
    "B = np.array([[1, 2, 3], [4, 5, 6]])\n",
    "print(A)\n",
    "print(B)"
   ]
  },
  {
   "cell_type": "markdown",
   "metadata": {},
   "source": [
    "## 2. Print the dimensions of $A$ and $B$ "
   ]
  },
  {
   "cell_type": "code",
   "execution_count": 7,
   "metadata": {},
   "outputs": [
    {
     "name": "stdout",
     "output_type": "stream",
     "text": [
      "(4, 2)\n",
      "(2, 3)\n"
     ]
    }
   ],
   "source": [
    "# Code here\n",
    "print(A.shape)\n",
    "print(B.shape)"
   ]
  },
  {
   "cell_type": "markdown",
   "metadata": {},
   "source": [
    "## 3. Print elements from $A$\n",
    "\n",
    "Print the following elements from $A$: \n",
    "\n",
    "* First row and first column\n",
    "* First row and second column\n",
    "* Third row and second column\n",
    "* Fourth row and first column"
   ]
  },
  {
   "cell_type": "code",
   "execution_count": 13,
   "metadata": {},
   "outputs": [
    {
     "name": "stdout",
     "output_type": "stream",
     "text": [
      "[[1402  191]\n",
      " [1371  821]\n",
      " [ 949 1437]\n",
      " [ 147 1448]]\n",
      "First row and first column: 1402\n",
      "First row and second column: 191\n",
      "Third row and second column: 1437\n",
      "Fourth row and first column: 147\n"
     ]
    }
   ],
   "source": [
    "# Code here\n",
    "print(A)\n",
    "print('First row and first column:', A[0,0])\n",
    "print('First row and second column:', A[0,1])\n",
    "print('Third row and second column:', A[2,1])\n",
    "print('Fourth row and first column:', A[-1,0])"
   ]
  },
  {
   "cell_type": "markdown",
   "metadata": {},
   "source": [
    "## 4. Write a routine to populate a matrix with random data\n",
    "* Create an $(3 \\times 3)$ Numpy array with all zeros (use `np.zeros()`)\n",
    "* Access each location $(i,j)$ of this matrix and fill in random values between the range 1 and 10 "
   ]
  },
  {
   "cell_type": "code",
   "execution_count": 1,
   "metadata": {},
   "outputs": [
    {
     "data": {
      "text/plain": [
       "array([[0., 0., 0.],\n",
       "       [0., 0., 0.],\n",
       "       [0., 0., 0.]])"
      ]
     },
     "execution_count": 1,
     "metadata": {},
     "output_type": "execute_result"
    }
   ],
   "source": [
    "# Code here\n",
    "# Create my array\n",
    "import numpy as np\n",
    "M = np.zeros([3, 3])\n",
    "M"
   ]
  },
  {
   "cell_type": "code",
   "execution_count": 24,
   "metadata": {},
   "outputs": [
    {
     "data": {
      "text/plain": [
       "array([[5., 0., 0.],\n",
       "       [0., 0., 0.],\n",
       "       [0., 0., 0.]])"
      ]
     },
     "execution_count": 24,
     "metadata": {},
     "output_type": "execute_result"
    }
   ],
   "source": [
    "# Check if assigning random works\n",
    "import random \n",
    "M[0,0] = random.randint(1, 10)\n",
    "M"
   ]
  },
  {
   "cell_type": "raw",
   "metadata": {},
   "source": [
    "# first attempt - for loop\n",
    "import random \n",
    "i = 0\n",
    "j = 0\n",
    "for i, j in M:\n",
    "    M[i, j] = random.randint(1, 10)\n",
    "    i =+ 1\n",
    "    j =+ 1\n",
    "return M "
   ]
  },
  {
   "cell_type": "raw",
   "metadata": {},
   "source": [
    "# second attempt\n",
    "import random \n",
    "i = 0\n",
    "j = 0\n",
    "for i in M:\n",
    "    M[i, j] = random.randint(1, 10)\n",
    "    i =+ 1\n",
    "return M "
   ]
  },
  {
   "cell_type": "code",
   "execution_count": 4,
   "metadata": {},
   "outputs": [
    {
     "data": {
      "text/plain": [
       "3"
      ]
     },
     "execution_count": 4,
     "metadata": {},
     "output_type": "execute_result"
    }
   ],
   "source": [
    "M.shape[0]"
   ]
  },
  {
   "cell_type": "raw",
   "metadata": {},
   "source": [
    "# third attempt\n",
    "import random \n",
    "i = 0\n",
    "j = 0\n",
    "#while (i < M.shape[0]):\n",
    "    M[i, j] = random.randint(1, 10)\n",
    "    i =+ 1\n",
    "return M "
   ]
  },
  {
   "cell_type": "code",
   "execution_count": 21,
   "metadata": {},
   "outputs": [
    {
     "name": "stdout",
     "output_type": "stream",
     "text": [
      "[[ 8.  1. 10.]\n",
      " [ 1. 10.  2.]\n",
      " [ 9.  6. 10.]]\n"
     ]
    }
   ],
   "source": [
    "# Yeah, I think it worked\n",
    "import random\n",
    "i = 0\n",
    "j = 0\n",
    "while i < M.shape[0]:\n",
    "    M[i, j] = random.randint(1, 10)\n",
    "    i = i+1\n",
    "    if(i == M.shape[0]):\n",
    "        i = 0\n",
    "        j = j+1\n",
    "        if(j == M.shape[1]):\n",
    "            break\n",
    "print(M)\n"
   ]
  },
  {
   "cell_type": "markdown",
   "metadata": {},
   "source": [
    "## 5. Turn the above routine into a function\n",
    "* Create two $(4 \\times 4)$ zero-valued matrices and fill with random data using the function\n",
    "* Add the matrices together in Numpy \n",
    "* Print the results"
   ]
  },
  {
   "cell_type": "code",
   "execution_count": 22,
   "metadata": {},
   "outputs": [],
   "source": [
    "import random\n",
    "\n",
    "def matrix_maker(a, b):\n",
    "    M = np.zeros([a, b])\n",
    "    i = 0\n",
    "    j = 0\n",
    "    while i < M.shape[0]:\n",
    "        M[i, j] = random.randint(1, 10)\n",
    "        i = i+1\n",
    "        if(i == M.shape[0]):\n",
    "            i = 0\n",
    "            j = j+1\n",
    "            if(j == M.shape[1]):\n",
    "                break\n",
    "    return(M)"
   ]
  },
  {
   "cell_type": "code",
   "execution_count": null,
   "metadata": {},
   "outputs": [],
   "source": []
  },
  {
   "cell_type": "code",
   "execution_count": 32,
   "metadata": {},
   "outputs": [
    {
     "name": "stdout",
     "output_type": "stream",
     "text": [
      "Matrix A: \n",
      " [[ 2.  9.  9. 10.]\n",
      " [ 6. 10.  4.  1.]\n",
      " [ 4.  8.  7.  9.]\n",
      " [ 1.  8.  5.  3.]] \n",
      "\n",
      "Matrix B: \n",
      " [[ 3.  9.  2.  2.]\n",
      " [ 1.  9.  1.  2.]\n",
      " [ 8.  9.  6.  1.]\n",
      " [ 4.  1.  8. 10.]] \n",
      "\n",
      "Matrix C: \n",
      " [[ 5. 18. 11. 12.]\n",
      " [ 7. 19.  5.  3.]\n",
      " [12. 17. 13. 10.]\n",
      " [ 5.  9. 13. 13.]]\n"
     ]
    }
   ],
   "source": [
    "# Code here\n",
    "A = matrix_maker(4, 4)\n",
    "B = matrix_maker(4, 4)\n",
    "C = A + B\n",
    "print('Matrix A:', '\\n', A, '\\n')\n",
    "print('Matrix B:', '\\n', B, '\\n')\n",
    "print('Matrix C:', '\\n', C)"
   ]
  },
  {
   "cell_type": "markdown",
   "metadata": {},
   "source": [
    "## Summary \n",
    "\n",
    "In this lab, we saw how to create and manipulate vectors and matrices in Numpy. We shall now move forward to learning more complex operations including dot products and matrix inversions.  "
   ]
  },
  {
   "cell_type": "code",
   "execution_count": null,
   "metadata": {},
   "outputs": [],
   "source": [
    "# Their code"
   ]
  },
  {
   "cell_type": "code",
   "execution_count": 33,
   "metadata": {},
   "outputs": [
    {
     "name": "stdout",
     "output_type": "stream",
     "text": [
      "before random data:\n",
      " [[0. 0. 0.]\n",
      " [0. 0. 0.]\n",
      " [0. 0. 0.]]\n",
      "\n",
      "after random data:\n",
      " [[6. 4. 6.]\n",
      " [2. 1. 5.]\n",
      " [7. 5. 4.]]\n"
     ]
    }
   ],
   "source": [
    "import random\n",
    "M = np.zeros((3, 3))\n",
    "print ('before random data:\\n',M)\n",
    "\n",
    "for x in range(0, M.shape[0]):\n",
    "    for y in range(0, M.shape[1]):\n",
    "        M[x][y] = random.randrange(1, 10) \n",
    "print ('\\nafter random data:\\n',M)"
   ]
  },
  {
   "cell_type": "code",
   "execution_count": 37,
   "metadata": {},
   "outputs": [
    {
     "name": "stdout",
     "output_type": "stream",
     "text": [
      "[[5. 2. 5. 9.]\n",
      " [4. 5. 4. 8.]\n",
      " [4. 4. 3. 9.]\n",
      " [1. 7. 9. 3.]] \n",
      "\n",
      "[[4. 9. 2. 1.]\n",
      " [3. 5. 1. 7.]\n",
      " [8. 4. 6. 7.]\n",
      " [7. 9. 1. 1.]] \n",
      "\n",
      "Final output\n",
      "\n",
      " [[ 9. 11.  7. 10.]\n",
      " [ 7. 10.  5. 15.]\n",
      " [12.  8.  9. 16.]\n",
      " [ 8. 16. 10.  4.]]\n"
     ]
    }
   ],
   "source": [
    "def fill(matrix):\n",
    "\n",
    "    for x in range(0, matrix.shape[0]):\n",
    "        for y in range(0, matrix.shape[1]):\n",
    "            matrix[x][y] = random.randrange(1, 10)\n",
    "    \n",
    "    return matrix\n",
    "\n",
    "M1 = np.zeros((4, 4))\n",
    "M2 = np.zeros((4, 4))\n",
    "\n",
    "M1_filled = fill(M1)\n",
    "M2_filled = fill(M2)\n",
    "out = M1_filled + M2_filled\n",
    "\n",
    "print(M1_filled, '\\n')\n",
    "print(M2_filled, '\\n')\n",
    "print ('Final output\\n\\n', out)"
   ]
  },
  {
   "cell_type": "code",
   "execution_count": null,
   "metadata": {},
   "outputs": [],
   "source": []
  }
 ],
 "metadata": {
  "kernelspec": {
   "display_name": "learn-env",
   "language": "python",
   "name": "learn-env"
  },
  "language_info": {
   "codemirror_mode": {
    "name": "ipython",
    "version": 3
   },
   "file_extension": ".py",
   "mimetype": "text/x-python",
   "name": "python",
   "nbconvert_exporter": "python",
   "pygments_lexer": "ipython3",
   "version": "3.6.6"
  }
 },
 "nbformat": 4,
 "nbformat_minor": 2
}
